{
 "cells": [
  {
   "cell_type": "code",
   "execution_count": 1,
   "id": "north-ottawa",
   "metadata": {},
   "outputs": [
    {
     "name": "stdout",
     "output_type": "stream",
     "text": [
      "Enter the Items in the List:: \n",
      "Enter the Item: 1\n",
      "['1']\n",
      "Enter the Item: 4\n",
      "['1', '4']\n",
      "Enter the Item: 3\n",
      "['1', '4', '3']\n",
      "Enter the Item: 2\n",
      "['1', '4', '3', '2']\n",
      "-------------------------\n",
      "Enter the Items in the Second List:: \n",
      "Enter the Item: 3\n",
      "['3']\n",
      "Enter the Item: 4\n",
      "['3', '4']\n",
      "Enter the Item: 5\n",
      "['3', '4', '5']\n",
      "Enter the Item: 6\n",
      "['3', '4', '5', '6']\n",
      "--------------------------\n",
      "Joined List is: \n",
      "['1', '4', '3', '2', '3', '4', '5', '6']\n"
     ]
    }
   ],
   "source": [
    "# Lab Activity 1\n",
    "# Accept two Lists from User and join them\n",
    "FirstList = []\n",
    "SecondList = []\n",
    "JoinList = []\n",
    "print(\"Enter the Items in the List:: \")\n",
    "for items in range(4):\n",
    "  ItemsInsert = input(\"Enter the Item: \")\n",
    "  FirstList.append(ItemsInsert)\n",
    "  print(FirstList)\n",
    "print(\"-------------------------\")\n",
    "print(\"Enter the Items in the Second List:: \")\n",
    "for item in range(4):\n",
    "  ItemsInsertSecond = input(\"Enter the Item: \")\n",
    "  SecondList.append(ItemsInsertSecond)\n",
    "  print(SecondList)\n",
    "print(\"--------------------------\")\n",
    "print(\"Joined List is: \")\n",
    "JoinList = FirstList + SecondList\n",
    "print(JoinList)  "
   ]
  },
  {
   "cell_type": "code",
   "execution_count": 2,
   "id": "supreme-banks",
   "metadata": {},
   "outputs": [
    {
     "name": "stdout",
     "output_type": "stream",
     "text": [
      "Enter a String:: Hellom\n",
      "This Alphabet Hellom is not a Palindrome!!\n"
     ]
    }
   ],
   "source": [
    "# Lab ACtivity 2\n",
    "# Program to check Palindrome\n",
    "def CheckPalindrome(Alphabets):\n",
    "  return Alphabets == Alphabets[::-1]\n",
    "Alphabets = input(\"Enter a String:: \")\n",
    "ToCheckString = CheckPalindrome(Alphabets)\n",
    "if ToCheckString:\n",
    "  print(\"This Alphabet \" + Alphabets + \" is a Palindrome!!\")\n",
    "else:\n",
    "  print(\"This Alphabet \" + Alphabets + \" is not a Palindrome!!\")"
   ]
  },
  {
   "cell_type": "code",
   "execution_count": 3,
   "id": "divine-reset",
   "metadata": {},
   "outputs": [
    {
     "name": "stdout",
     "output_type": "stream",
     "text": [
      "The Product of Two Matrices Are:: \n",
      "[[1, 4, 7], [2, 5, 8], [3, 6, 9]]\n"
     ]
    }
   ],
   "source": [
    "# Lab Activity 3\n",
    "# Program to get Product of two 2D Lists\n",
    "First = [[1, 0, 0], [0, 1, 0], [0, 0, 1]]\n",
    "Second = [[1, 2, 3], [4, 5, 6], [7, 8, 9]]\n",
    "Third = []\n",
    "for rows in range(3):\n",
    "  Third.append([])\n",
    "  for coloumns in range(3):\n",
    "    Third[rows].append(0)\n",
    "    for result in range(3):\n",
    "      Third[rows][coloumns] += First[rows][result] * Second[coloumns][result]\n",
    "print(\"The Product of Two Matrices Are:: \")\n",
    "print(Third)"
   ]
  },
  {
   "cell_type": "code",
   "execution_count": 4,
   "id": "athletic-circuit",
   "metadata": {},
   "outputs": [
    {
     "name": "stdout",
     "output_type": "stream",
     "text": [
      "Enter the values of First Set:: 2\n",
      "Enter the values of First Set:: 4\n",
      "Enter the values of First Set:: 5\n",
      "Enter the values of First Set:: 6\n",
      "Enter the values of First Set:: 7\n",
      "----------------------------\n",
      "The First Set Values Are:: \n",
      "{'7', '6', '4', '2', '5'}\n",
      "----------------------------\n",
      "Enter the values of Second Set:: 5\n",
      "Enter the values of Second Set:: 2\n",
      "Enter the values of Second Set:: 3\n",
      "Enter the values of Second Set:: 2\n",
      "Enter the values of Second Set:: 4\n",
      "----------------------------\n",
      "The Second Set Values Are:: \n",
      "{'3', '2', '4', '5'}\n",
      "----------------------------\n",
      "The Symmetric Result is:: \n",
      "{'3', '7', '6'}\n"
     ]
    }
   ],
   "source": [
    "# Lab ACtivity 4\n",
    "# Find Intersection Between Two Sets\n",
    "Firstset = set()\n",
    "SecondSet = set()\n",
    "ThirdSet = set()\n",
    "for i in range(5):\n",
    "  value = input(\"Enter the values of First Set:: \")\n",
    "  Firstset.add(value) \n",
    "print(\"----------------------------\")\n",
    "print(\"The First Set Values Are:: \")\n",
    "print(Firstset)\n",
    "print(\"----------------------------\")\n",
    "for j in range(5):\n",
    "  value = input(\"Enter the values of Second Set:: \")\n",
    "  SecondSet.add(value)\n",
    "print(\"----------------------------\")\n",
    "print(\"The Second Set Values Are:: \")\n",
    "print(SecondSet)\n",
    "print(\"----------------------------\")\n",
    "for k in Firstset:\n",
    "  if k not in SecondSet:\n",
    "    ThirdSet.add(k)\n",
    "for l in SecondSet:\n",
    "  if l not in Firstset:\n",
    "    ThirdSet.add(l)\n",
    "print(\"The Symmetric Result is:: \")\n",
    "print(ThirdSet)"
   ]
  },
  {
   "cell_type": "code",
   "execution_count": null,
   "id": "cognitive-greene",
   "metadata": {},
   "outputs": [],
   "source": [
    "Dictonary = {(\"Usama\", \"Mansoor\"):\"03345103146\", (\"Ali\", \"Khattak\"):\"03005674322\", (\"Zamain\", \"Qureashi\"):\"032447653393\"}\n",
    "First_Name = input(\"Enter Your First Name:: \")\n",
    "Last_Name = input(\"Enter Your Last Name:: \")\n",
    "searching_number = (First_Name, Last_Name)\n",
    "if searching_number in Dictonary:\n",
    "  print(\"Search Found!! \")\n",
    "  print(Dictonary[searching_number])\n",
    "else:\n",
    "  print(\"Not Found!! \")"
   ]
  },
  {
   "cell_type": "code",
   "execution_count": 5,
   "id": "illegal-evans",
   "metadata": {},
   "outputs": [
    {
     "name": "stdout",
     "output_type": "stream",
     "text": [
      "Enter the numbers in First List:: 1\n",
      "Enter the numbers in First List:: 4\n",
      "Enter the numbers in First List:: 5\n",
      "Enter the numbers in First List:: 6\n",
      "Enter the numbers in First List:: 7\n",
      "The Elements in First List Are:: \n",
      "[1, 4, 5, 6, 7]\n",
      "---------------------------------\n",
      "Enter the numbers in Second List:: 2\n",
      "Enter the numbers in Second List:: 8\n",
      "Enter the numbers in Second List:: 3\n",
      "Enter the numbers in Second List:: 9\n",
      "Enter the numbers in Second List:: 0\n",
      "The Elements in Second List Are:: \n",
      "[2, 8, 3, 9, 0]\n",
      "---------------------------------\n",
      "Joined Sorted List is:: \n",
      "[0, 1, 2, 3, 4, 5, 6, 7, 8, 9]\n"
     ]
    }
   ],
   "source": [
    "# Lab Activity 5\n",
    "# Merge and Sort two lists\n",
    "ListFirst = []\n",
    "ListSecond = []\n",
    "ListThird = []\n",
    "for i in range(5):\n",
    "    ListFirst.append(int(input(\"Enter the numbers in First List:: \")))\n",
    "print(\"The Elements in First List Are:: \")\n",
    "print(ListFirst)\n",
    "print(\"---------------------------------\")\n",
    "for j in range(5):\n",
    "    ListSecond.append(int(input(\"Enter the numbers in Second List:: \")))\n",
    "print(\"The Elements in Second List Are:: \")\n",
    "print(ListSecond)\n",
    "print(\"---------------------------------\")\n",
    "ListThird = ListFirst + ListSecond\n",
    "print(\"Joined Sorted List is:: \")\n",
    "print(sorted(ListThird))"
   ]
  },
  {
   "cell_type": "code",
   "execution_count": null,
   "id": "spectacular-language",
   "metadata": {},
   "outputs": [],
   "source": [
    "# Lab Activity 5\n",
    "# Merge and Sort two lists\n",
    "ListFirst = []\n",
    "ListSecond = []\n",
    "ListThird = []\n",
    "for i in range(5):\n",
    "    ListFirst.append(int(input(\"Enter the numbers in First List:: \")))\n",
    "print(\"The Elements in First List Are:: \")\n",
    "print(ListFirst)\n",
    "print(\"---------------------------------\")\n",
    "for j in range(5):\n",
    "    ListSecond.append(int(input(\"Enter the numbers in Second List:: \")))\n",
    "print(\"The Elements in Second List Are:: \")\n",
    "print(ListSecond)\n",
    "print(\"---------------------------------\")\n",
    "ListThird = ListFirst + ListSecond\n",
    "print(\"Joined Sorted List is:: \")\n",
    "print(sorted(ListThird))\n",
    "smallest = ListThird[0]\n",
    "for i in range(len(ListThird)):\n",
    "    if ListThird[i] < smallest:\n",
    "        smallest = ListThird\n",
    "print(\"The Smallest Number is:: \", smallest)"
   ]
  },
  {
   "cell_type": "code",
   "execution_count": null,
   "id": "special-natural",
   "metadata": {},
   "outputs": [],
   "source": [
    "# LAb ACtivity 6\n",
    "import math\n",
    "h = 0.001\n",
    "x = []\n",
    "Pi = math.pi\n",
    "NegativePi = -(Pi)\n",
    "x.append(NegativePi)\n",
    "x.append(Pi)\n",
    "for i in range(len(x)):\n",
    "    NegativePi += 0.001\n",
    "    Pi += 0.001\n",
    "    x.append(NegativePi)\n",
    "    x.append(Pi)\n",
    "print(x)"
   ]
  },
  {
   "cell_type": "code",
   "execution_count": 8,
   "id": "complete-blogger",
   "metadata": {},
   "outputs": [
    {
     "name": "stdout",
     "output_type": "stream",
     "text": [
      "Enter first Name:: Ali\n",
      "Enter Scond Name:: Khattak\n",
      "Match Found!! \n",
      "03245678906\n"
     ]
    }
   ],
   "source": [
    "# Lab ACtivity 7\n",
    "records = {(\"Ali\", \"Khattak\"):\"03245678906\", (\"Usama\",\"Mansoor\"):\"03215674890\"}\n",
    "firstname = input(\"Enter first Name:: \")\n",
    "secondname = input(\"Enter Scond Name:: \")\n",
    "finding = (firstname, secondname)\n",
    "if finding in records:\n",
    "    print(\"Match Found!! \")\n",
    "    print(records[finding])\n",
    "else:\n",
    "    print(\"Not Found!! \")"
   ]
  },
  {
   "cell_type": "code",
   "execution_count": 13,
   "id": "lined-pulse",
   "metadata": {},
   "outputs": [
    {
     "name": "stdout",
     "output_type": "stream",
     "text": [
      "We Have BirthDays of Following Persons:: \n",
      "Haris Shah\n",
      "Alyaan\n",
      "Ali Khattak\n",
      "Enter name to found Birthday:: Alyaan\n",
      "Found!! \n",
      "10-July-2001\n"
     ]
    }
   ],
   "source": [
    "# Lab Task 8\n",
    "# To Find the Birthdays uusing dictonary\n",
    "BirthDays = {'Haris Shah':'1-October-2000', 'Alyaan':'10-July-2001', 'Ali Khattak':'1-May-2000'}\n",
    "print(\"We Have BirthDays of Following Persons:: \")\n",
    "for names in BirthDays:\n",
    "  print(names)\n",
    "found = input(\"Enter name to found Birthday:: \")\n",
    "if found in BirthDays:\n",
    "    print(\"Found!! \")\n",
    "    print(BirthDays[found])\n",
    "else:\n",
    "    print(\"Not Here\")\n",
    "\n"
   ]
  },
  {
   "cell_type": "code",
   "execution_count": null,
   "id": "extraordinary-retention",
   "metadata": {},
   "outputs": [],
   "source": []
  }
 ],
 "metadata": {
  "kernelspec": {
   "display_name": "Python 3",
   "language": "python",
   "name": "python3"
  },
  "language_info": {
   "codemirror_mode": {
    "name": "ipython",
    "version": 3
   },
   "file_extension": ".py",
   "mimetype": "text/x-python",
   "name": "python",
   "nbconvert_exporter": "python",
   "pygments_lexer": "ipython3",
   "version": "3.8.6rc1"
  }
 },
 "nbformat": 4,
 "nbformat_minor": 5
}
