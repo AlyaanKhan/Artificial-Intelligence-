{
 "cells": [
  {
   "cell_type": "code",
   "execution_count": 28,
   "id": "violent-athens",
   "metadata": {},
   "outputs": [
    {
     "name": "stdout",
     "output_type": "stream",
     "text": [
      "BFS is:: \n",
      "0, 1, 2, 3, 4, 5, 6, 7, "
     ]
    }
   ],
   "source": [
    "#Lab Task 1\n",
    "graphs = {'0':['1', '2', '3'],'1':['4','5'], '2':['6','7'], '3':['7'],'4':[],'5':[], '6':[], '7':[]}\n",
    "visit = []\n",
    "queue = []\n",
    "def Breadth_First_Search(visit, graphs, node):\n",
    "  visit.append(node)\n",
    "  queue.append(node)\n",
    "\n",
    "  while queue:\n",
    "    eliminate = queue.pop(0)\n",
    "    print(eliminate, end=\", \")\n",
    "    for neighbours in graphs[eliminate]:\n",
    "      if neighbours not in visit:\n",
    "        visit.append(neighbours)\n",
    "        queue.append(neighbours)\n",
    "print(\"BFS is:: \")\n",
    "Breadth_First_Search(visit, graphs, '0')"
   ]
  },
  {
   "cell_type": "code",
   "execution_count": 1,
   "id": "grateful-testing",
   "metadata": {},
   "outputs": [
    {
     "name": "stdout",
     "output_type": "stream",
     "text": [
      "BFS is:: \n",
      "A, B, E, C, D, F, G, "
     ]
    }
   ],
   "source": [
    "#Lab Task 2\n",
    "# Represent Graph in Python\n",
    "graphsAlphabet = {'A':['B', 'E', 'C'],'B':[ 'A','D', 'E'],'C':['F', 'G'],'D':['B', 'E'],'E':['A','B','D'],'F':['C'],'G':['C']}\n",
    "visiting = []\n",
    "queue=[]\n",
    "def BFS(visiting, graphsAlphabet, nodes):\n",
    "    visiting.append(nodes)\n",
    "    queue.append(nodes)\n",
    "    while queue:\n",
    "        discard = queue.pop(0)\n",
    "        print(discard, end=\", \")\n",
    "        for n in graphsAlphabet[discard]:\n",
    "            if n not in visiting:\n",
    "                visiting.append(n)\n",
    "                queue.append(n)\n",
    "print(\"BFS is:: \")\n",
    "BFS(visiting, graphsAlphabet,'A')"
   ]
  },
  {
   "cell_type": "code",
   "execution_count": 3,
   "id": "noble-visibility",
   "metadata": {},
   "outputs": [
    {
     "ename": "SyntaxError",
     "evalue": "'return' outside function (<ipython-input-3-064fd3d07f89>, line 22)",
     "output_type": "error",
     "traceback": [
      "\u001b[1;36m  File \u001b[1;32m\"<ipython-input-3-064fd3d07f89>\"\u001b[1;36m, line \u001b[1;32m22\u001b[0m\n\u001b[1;33m    return actionSequence(graphAlphabet, startingpoint,endingpoint)\u001b[0m\n\u001b[1;37m    ^\u001b[0m\n\u001b[1;31mSyntaxError\u001b[0m\u001b[1;31m:\u001b[0m 'return' outside function\n"
     ]
    }
   ],
   "source": [
    "class Node:\n",
    "    def init(self, state, parent, actions):\n",
    "        self.state = state\n",
    "        self.parent = parent\n",
    "        self.actions = actions\n",
    "        \n",
    "def BFS():\n",
    "    graphsAlphabet = {'A':['B', 'E', 'C'],'B':[ 'A','D', 'E'],'C':['F', 'G'],'D':['B', 'E'],'E':['A','B','D'],'F':['C'],'G':['C']\n",
    "                 }\n",
    "    startingpoint = 'A'\n",
    "    endingpont = 'F'\n",
    "    visited = [startingpoint]\n",
    "    queued = []\n",
    "\n",
    "while len(visited) != 0:\n",
    "    node = visited.pop(0)\n",
    "    queued.append(node)\n",
    "    for neigbour in graphAlphabet[node].actions:\n",
    "        if neigbour not in visited and neigbour not in queued:\n",
    "            graphAlphabet[neigbour].parent = node\n",
    "            if graphAlphabet[neigbour].state == endingpoint:\n",
    "                return actionSequence(graphAlphabet, startingpoint,endingpoint)\n",
    "            visited.append(neigbour)\n",
    "s = BFS()\n",
    "print(s)"
   ]
  },
  {
   "cell_type": "code",
   "execution_count": 7,
   "id": "welcome-scroll",
   "metadata": {},
   "outputs": [],
   "source": [
    "graph = {\n",
    "        'arad': ['sibiu', 'zerind', 'timisoara'],\n",
    "        'sibiu': ['oradea', 'fagaras', 'rimnicu'],\n",
    "        'zerind': ['arad', 'oradea'],\n",
    "        'timisoara': ['arad', 'lugoj'],\n",
    "        'oradea': ['zerind', 'sibiu'],\n",
    "        'fagaras': ['sibiu', 'bucharest']\n",
    "        }\n",
    "\n",
    "def bfs(graph, start, end):\n",
    "    # maintain a queue of paths\n",
    "    queue = []\n",
    "    # push the first path into the queue\n",
    "    queue.append([start])\n",
    "    while queue:\n",
    "        # get the first path from the queue\n",
    "        path = queue.pop(0)\n",
    "        # get the last node from the path\n",
    "        node = path[-1]\n",
    "        # path found\n",
    "        if node == end:\n",
    "            return path\n",
    "        # enumerate all adjacent nodes, construct a new path and push it into the queue\n",
    "        for adjacent in graph.get(node, []):\n",
    "            new_path = list(path)\n",
    "            new_path.append(adjacent)\n",
    "            queue.append(new_path)\n",
    "    print(bfs(graph, start, end))"
   ]
  },
  {
   "cell_type": "code",
   "execution_count": 10,
   "id": "warming-classification",
   "metadata": {},
   "outputs": [],
   "source": [
    "def solveMazeWithPath(maze):\n",
    "    R, C = len(maze), len(maze[0])\n",
    "\n",
    "    start = (0, 0)\n",
    "    for r in range(R):\n",
    "        for c in range(C):\n",
    "            if maze[r][c] == 'S':\n",
    "                start = (r, c)\n",
    "                break\n",
    "        else:\n",
    "            continue\n",
    "        break\n",
    "    else:\n",
    "        return None\n",
    "\n",
    "    queue = deque()\n",
    "    queue.appendleft((start[0], start[1], 0, [start[0] * C + start[1]]))\n",
    "    directions = [[0, 1], [0, -1], [1, 0], [-1, 0]]\n",
    "    visited = [[False] * C for _ in range(R)]\n",
    "\n",
    "    while len(queue) != 0:\n",
    "        coord = queue.pop()\n",
    "        visited[coord[0]][coord[1]] = True\n",
    "\n",
    "        if maze[coord[0]][coord[1]] == \"E\":\n",
    "            return coord[2], [[i//C, i%C] for i in coord[3]] # Return path length, boxes on path\n",
    "\n",
    "        for dir in directions:\n",
    "            nr, nc = coord[0] + dir[0], coord[1] + dir[1]\n",
    "            if (nr < 0 or nr >= R or nc < 0 or nc >= C or maze[nr][nc] == \"#\" or visited[nr][nc]): continue\n",
    "            queue.appendleft((nr, nc, coord[2] + 1, coord[3] + [nr * C + nc]))"
   ]
  },
  {
   "cell_type": "code",
   "execution_count": null,
   "id": "adult-printing",
   "metadata": {},
   "outputs": [],
   "source": []
  }
 ],
 "metadata": {
  "kernelspec": {
   "display_name": "Python 3",
   "language": "python",
   "name": "python3"
  },
  "language_info": {
   "codemirror_mode": {
    "name": "ipython",
    "version": 3
   },
   "file_extension": ".py",
   "mimetype": "text/x-python",
   "name": "python",
   "nbconvert_exporter": "python",
   "pygments_lexer": "ipython3",
   "version": "3.8.6rc1"
  }
 },
 "nbformat": 4,
 "nbformat_minor": 5
}
