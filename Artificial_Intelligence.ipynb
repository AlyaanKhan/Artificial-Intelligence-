{
  "nbformat": 4,
  "nbformat_minor": 0,
  "metadata": {
    "colab": {
      "provenance": [],
      "authorship_tag": "ABX9TyNotWDqCdfvcWRT6sMu0mxu",
      "include_colab_link": true
    },
    "kernelspec": {
      "name": "python3",
      "display_name": "Python 3"
    },
    "language_info": {
      "name": "python"
    }
  },
  "cells": [
    {
      "cell_type": "markdown",
      "metadata": {
        "id": "view-in-github",
        "colab_type": "text"
      },
      "source": [
        "<a href=\"https://colab.research.google.com/github/AlyaanKhan/Artificial-Intelligence-/blob/main/Artificial_Intelligence.ipynb\" target=\"_parent\"><img src=\"https://colab.research.google.com/assets/colab-badge.svg\" alt=\"Open In Colab\"/></a>"
      ]
    },
    {
      "cell_type": "code",
      "execution_count": null,
      "metadata": {
        "colab": {
          "base_uri": "https://localhost:8080/"
        },
        "id": "bl67fO8dy8Rq",
        "outputId": "f006651a-d8db-41ab-eca8-6a5a2c191974"
      },
      "outputs": [
        {
          "output_type": "stream",
          "name": "stdout",
          "text": [
            "Enter the number:: 6\n",
            "The number is Even: 6\n"
          ]
        }
      ],
      "source": [
        "# Checks Wheter The Number Is Even or Odd\n",
        "# Lab Activity 1\n",
        "number = int(input(\"Enter the number:: \"))\n",
        "if(number % 2 == 0):\n",
        "    print(\"The number is Even: \" + str(number))\n",
        "else:\n",
        "    print(\"The number is Odd: \" + str(number))"
      ]
    },
    {
      "cell_type": "code",
      "source": [
        "# Sum of all integers until 0 is inputed\n",
        "# Lab Activity 2\n",
        "Addition = 0\n",
        "count = 0\n",
        "integer = int(input(\"Enter numbers:: \"))\n",
        "while integer!=0:\n",
        "    Addition = Addition + integer\n",
        "    integer = int(input(\"Enter numbers:: \"))\n",
        "    count +=1\n",
        "print(\"The Sum of All Integers is:: \" + str(Addition))\n",
        "print(\"The Total numbers entered are:: \" + str(count))"
      ],
      "metadata": {
        "colab": {
          "base_uri": "https://localhost:8080/"
        },
        "id": "-8-zg7bQzE_0",
        "outputId": "d2c4a966-7e2f-4a33-91b6-2c99d3fabb78"
      },
      "execution_count": null,
      "outputs": [
        {
          "output_type": "stream",
          "name": "stdout",
          "text": [
            "Enter numbers:: 5\n",
            "Enter numbers:: 6\n",
            "Enter numbers:: 7\n",
            "Enter numbers:: 8\n",
            "Enter numbers:: 0\n",
            "The Sum of All Integers is:: 26\n",
            "The Total numbers entered are:: 4\n"
          ]
        }
      ]
    },
    {
      "cell_type": "code",
      "source": [
        "# Weather a number is Prime or Not\n",
        "# Lab Activity 3\n",
        "number = int(input(\"Enter a number:: \"))\n",
        "value = 2\n",
        "PrimeCheck = True\n",
        "while value<number:\n",
        "    reminder = number%value\n",
        "    if reminder == 0:\n",
        "        PrimeCheck = False\n",
        "        break\n",
        "    else:\n",
        "        value = value + 1\n",
        "if PrimeCheck:\n",
        "    print(\"This number \" + str(number) + \" is Prime. \")\n",
        "else:\n",
        "    print(\"This number \" + str(number) + \" is not Prime. \")"
      ],
      "metadata": {
        "colab": {
          "base_uri": "https://localhost:8080/"
        },
        "id": "ceU6OcKMznQz",
        "outputId": "47ab776f-43c8-49e5-9a5a-e68e360089ed"
      },
      "execution_count": null,
      "outputs": [
        {
          "output_type": "stream",
          "name": "stdout",
          "text": [
            "Enter a number:: 7\n",
            "This number 7 is Prime. \n"
          ]
        }
      ]
    },
    {
      "cell_type": "code",
      "source": [
        "# values from user and its's sum\n",
        "# Lab Activity 4\n",
        "sum = 0\n",
        "for i in range(1, 6):\n",
        "    num = int(input(\"Enter the \" + str(i) + \" number:: \"))\n",
        "    sum = sum + num\n",
        "print(\"The total sum is:: \" + str(sum))"
      ],
      "metadata": {
        "colab": {
          "base_uri": "https://localhost:8080/"
        },
        "id": "eZYimUF6zy5B",
        "outputId": "bab3603d-7e6d-4919-8765-aefebe8c2639"
      },
      "execution_count": null,
      "outputs": [
        {
          "output_type": "stream",
          "name": "stdout",
          "text": [
            "Enter the 1 number:: 5\n",
            "Enter the 2 number:: 6\n",
            "Enter the 3 number:: 7\n",
            "Enter the 4 number:: 6\n",
            "Enter the 5 number:: 7\n",
            "The total sum is:: 31\n"
          ]
        }
      ]
    },
    {
      "cell_type": "code",
      "source": [
        "# Sum of 1st 10 numbers using while loop\n",
        "# Lab Activity 5\n",
        "Add = 0\n",
        "counter = 1\n",
        "while counter<=10:\n",
        "    Add = Add + counter\n",
        "    counter +=1\n",
        "print(\"The Sum Of First Ten Numbers is:: \", Add)"
      ],
      "metadata": {
        "colab": {
          "base_uri": "https://localhost:8080/"
        },
        "id": "FSTHbkLLz46B",
        "outputId": "dd051e75-cb3d-44ed-c29d-937deede154f"
      },
      "execution_count": null,
      "outputs": [
        {
          "output_type": "stream",
          "name": "stdout",
          "text": [
            "The Sum Of First Ten Numbers is::  55\n"
          ]
        }
      ]
    },
    {
      "cell_type": "code",
      "source": [
        "# Take Input From The User\n",
        "# Lab Activity 6\n",
        "name = input(\"Enter Your Name:: \")\n",
        "Registration_num = input(\"Enter Your Registration Number:: \")\n",
        "print(\"Your name is:: \" + name + \"\\n\" + \"Your Registration number is:: \" + Registration_num)"
      ],
      "metadata": {
        "colab": {
          "base_uri": "https://localhost:8080/"
        },
        "id": "vETgenmz0CQR",
        "outputId": "12814cf4-9b88-4317-eb79-3c0e2a36df32"
      },
      "execution_count": null,
      "outputs": [
        {
          "output_type": "stream",
          "name": "stdout",
          "text": [
            "Enter Your Name:: Alyaan\n",
            "Enter Your Registration Number:: FA20-BCS-048\n",
            "Your name is:: Alyaan\n",
            "Your Registration number is:: FA20-BCS-048\n"
          ]
        }
      ]
    },
    {
      "cell_type": "code",
      "source": [
        "# Guess the number\n",
        "# Lab activity 7\n",
        "import random\n",
        "import sys\n",
        "number = random.randint(1, 9)\n",
        "App_run = True\n",
        "Tries = 0\n",
        "while App_run:\n",
        "    Guessed = int(input(\"Guess the number:: \"))\n",
        "    if Guessed < number:\n",
        "        print(\"The number is too Low!! \")\n",
        "    elif Guessed > number:\n",
        "        print(\"The number is too High!! \")\n",
        "    elif Guessed == number:\n",
        "        print(\"You Got it!! Welldone \")\n",
        "    elif str(Guessed).lower() == \"exit\":\n",
        "        print(\"Thank You For Playing! \")\n",
        "        sys.exit()\n",
        "        if Tries < 2:\n",
        "            print(\"You Have \" + str(Tries) + \" Tries Left\")\n",
        "        elif Tries > 2 and Tries < 10:\n",
        "            print(\"Good\" + str(Tries) + \" Tries Left\")\n",
        "        else:\n",
        "            print(\"No Tries Left!! \" + str(Tries))\n",
        "    App_run = False\n",
        "Tries += 1\n",
        "print(\"The correct number is: \" + str(number))\n",
        "    \n",
        "            \n",
        "    "
      ],
      "metadata": {
        "colab": {
          "base_uri": "https://localhost:8080/"
        },
        "id": "jauuMNT_0GNx",
        "outputId": "25847a7c-7de7-4c9f-f9b5-f4d07e958694"
      },
      "execution_count": null,
      "outputs": [
        {
          "output_type": "stream",
          "name": "stdout",
          "text": [
            "Guess the number:: 78\n",
            "The number is too High!! \n",
            "The correct number is: 4\n"
          ]
        }
      ]
    },
    {
      "cell_type": "code",
      "source": [
        "# To Reverse The Integers\n",
        "# Lab Activity 8\n",
        "numbers = int(input(\"Enter the numbers:: \"))\n",
        "reverse_num = 0\n",
        "while numbers != 0:\n",
        "  digits = numbers % 10\n",
        "  reverse_num = 10 * reverse_num + digits\n",
        "  numbers //= 10\n",
        "print(\"The Reversed Numbers are:: \", reverse_num)"
      ],
      "metadata": {
        "colab": {
          "base_uri": "https://localhost:8080/"
        },
        "id": "U2Mj2NXM0NWB",
        "outputId": "1c100f72-81cb-49a5-fe21-6d58e04c478f"
      },
      "execution_count": 10,
      "outputs": [
        {
          "output_type": "stream",
          "name": "stdout",
          "text": [
            "Enter the numbers:: 1234\n",
            "The Reversed Numbers are::  4321\n"
          ]
        }
      ]
    },
    {
      "cell_type": "code",
      "source": [
        "# Set of integers odd and even\n",
        "# Lab Activity 9\n",
        "set_of_integers = {1, 7, 3, 4, 2, 6}\n",
        "for i in set_of_integers:\n",
        "  if i % 2 == 0:\n",
        "    print(\"This number: \", i , \" is Even. \")\n",
        "  else:\n",
        "    print(\"This number: \", i , \" is Odd. \")"
      ],
      "metadata": {
        "id": "QziZMBT10wfR",
        "colab": {
          "base_uri": "https://localhost:8080/"
        },
        "outputId": "85f9d8a8-46b0-4925-9a6d-ec249bc825cf"
      },
      "execution_count": 14,
      "outputs": [
        {
          "output_type": "stream",
          "name": "stdout",
          "text": [
            "This number:  1  is Odd. \n",
            "This number:  2  is Even. \n",
            "This number:  3  is Odd. \n",
            "This number:  4  is Even. \n",
            "This number:  6  is Even. \n",
            "This number:  7  is Odd. \n"
          ]
        }
      ]
    },
    {
      "cell_type": "code",
      "source": [
        "# Fibonacci Series\n",
        "# Lab Activity 10\n",
        "def fibonacci(n):\n",
        "\ta = 0\n",
        "\tb = 1\n",
        "\tif n < 0:\n",
        "\t\tprint(\"Incorrect input\")\t\t\n",
        "\telif n == 0:\n",
        "\t\treturn 0\n",
        "\telif n == 1:\n",
        "\t\treturn b\n",
        "\telse:\n",
        "\t\tfor i in range(1, n):\n",
        "\t\t\tc = a + b\n",
        "\t\t\ta = b\n",
        "\t\t\tb = c\n",
        "\t\treturn b\n",
        "print(\"The Fibonacci series is:: \", fibonacci(9))"
      ],
      "metadata": {
        "colab": {
          "base_uri": "https://localhost:8080/"
        },
        "id": "Kk3CoYZi2-jQ",
        "outputId": "3ca01f7f-1947-4cc6-de18-98d1662ceb9e"
      },
      "execution_count": 24,
      "outputs": [
        {
          "output_type": "stream",
          "name": "stdout",
          "text": [
            "The Fibonacci series is::  34\n"
          ]
        }
      ]
    },
    {
      "cell_type": "code",
      "source": [
        "# Grading System\n",
        "# Lab Activity 11\n",
        "marks = int(input(\"Enter the marks of Student:: \"))\n",
        "if marks >= 91 and marks <= 100:\n",
        "  print(\"You Got An A!! \")\n",
        "elif marks >= 81 and marks <= 90:\n",
        "  print(\"You Got A B!! \")\n",
        "elif marks >= 71 and marks <= 80:\n",
        "  print(\"You Got A C!! \")\n",
        "elif marks >= 61 and marks <= 70:\n",
        "  print(\"You Got A D!! \")\n",
        "elif marks >= 50 and marks <= 60:\n",
        "  print(\"You Got A E!! \")\n",
        "else:\n",
        "  print(\"You Got A F!! \")"
      ],
      "metadata": {
        "colab": {
          "base_uri": "https://localhost:8080/"
        },
        "id": "r6zVqbSs6d1w",
        "outputId": "e7da8e74-af7c-4571-b0cd-cc3962bc3f0d"
      },
      "execution_count": 34,
      "outputs": [
        {
          "output_type": "stream",
          "name": "stdout",
          "text": [
            "Enter the marks of Student:: 49\n",
            "You Got A F!! \n"
          ]
        }
      ]
    },
    {
      "cell_type": "code",
      "source": [
        "# Factorial\n",
        "# Lab Activity 11\n",
        "number = int (input(\"Enter a number:: \"))\n",
        "factorial = 1\n",
        "if number < 0:\n",
        "  print(\"Cannot be of Negative Numbers!! \")\n",
        "if number == 0:\n",
        "  print(\"1\")\n",
        "for i in range(1, number+1):\n",
        "  factorial = factorial * i\n",
        "print(\"The Factorial of\", number , \"is:: \", factorial )"
      ],
      "metadata": {
        "colab": {
          "base_uri": "https://localhost:8080/"
        },
        "id": "4mHlvLUAAHd5",
        "outputId": "6e68c73e-112b-45f2-bb49-34d6f4de2632"
      },
      "execution_count": 36,
      "outputs": [
        {
          "output_type": "stream",
          "name": "stdout",
          "text": [
            "Enter a number:: 5\n",
            "The Factorial of 5 is::  120\n"
          ]
        }
      ]
    },
    {
      "cell_type": "code",
      "source": [],
      "metadata": {
        "id": "PSBSKZhsCtSP"
      },
      "execution_count": null,
      "outputs": []
    },
    {
      "cell_type": "markdown",
      "source": [],
      "metadata": {
        "id": "byRXhvwMCst5"
      }
    }
  ]
}